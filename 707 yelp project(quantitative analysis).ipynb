{
 "cells": [
  {
   "cell_type": "code",
   "execution_count": 1,
   "metadata": {},
   "outputs": [],
   "source": [
    "import pandas as pd\n",
    "import numpy as np\n",
    "import sys\n",
    "import sklearn\n",
    "import os\n",
    "import random\n",
    "\n",
    "import matplotlib.pyplot as plt\n",
    "import matplotlib as mpl\n",
    "\n",
    "from sklearn.model_selection import GridSearchCV\n",
    "from sklearn.model_selection import RandomizedSearchCV\n",
    "from sklearn.model_selection import train_test_split\n",
    "from sklearn.naive_bayes import GaussianNB\n",
    "from sklearn.metrics import make_scorer, classification_report, accuracy_score\n",
    "from sklearn.preprocessing import label_binarize\n",
    "#!pip install arff\n"
   ]
  },
  {
   "cell_type": "code",
   "execution_count": 2,
   "metadata": {},
   "outputs": [],
   "source": [
    "df1= pd.read_csv('yelpfinal2.csv')"
   ]
  },
  {
   "cell_type": "markdown",
   "metadata": {},
   "source": [
    "## Preprocessing"
   ]
  },
  {
   "cell_type": "code",
   "execution_count": 4,
   "metadata": {},
   "outputs": [
    {
     "data": {
      "text/plain": [
       "array(['business_id', 'user_id', 'review_id', 'stars_review',\n",
       "       'useful_review', 'funny_review', 'cool_review', 'text', 'date',\n",
       "       'name_user', 'review_count_user', 'yelping_since', 'useful_user',\n",
       "       'funny_user', 'cool_user', 'elite_user', 'friends', 'fans',\n",
       "       'average_stars_user', 'compliment_hot', 'compliment_more',\n",
       "       'compliment_profile', 'compliment_cute', 'compliment_list',\n",
       "       'compliment_note', 'compliment_plain', 'compliment_cool',\n",
       "       'compliment_funny', 'compliment_writer', 'compliment_photos',\n",
       "       'name_business', 'address', 'city', 'state', 'postal_code',\n",
       "       'latitude', 'longitude', 'stars_business', 'review_count_business'],\n",
       "      dtype=object)"
      ]
     },
     "execution_count": 4,
     "metadata": {},
     "output_type": "execute_result"
    }
   ],
   "source": [
    "df1.columns.values"
   ]
  },
  {
   "cell_type": "code",
   "execution_count": 5,
   "metadata": {},
   "outputs": [],
   "source": [
    "#Subsetting the data to only have columns that have numeric data in them\n",
    "numeric_col= df1[['stars_review','useful_review','funny_review','cool_review',\n",
    "                  'review_count_user','useful_user','funny_user','cool_user',\n",
    "                  'elite_user','fans','average_stars_user','compliment_hot', 'compliment_more',\n",
    "                    'compliment_profile', 'compliment_cute', 'compliment_list',\n",
    "                    'compliment_note', 'compliment_plain', 'compliment_cool',\n",
    "                    'compliment_funny', 'compliment_writer', 'compliment_photos','stars_business']]"
   ]
  },
  {
   "cell_type": "code",
   "execution_count": 7,
   "metadata": {},
   "outputs": [
    {
     "data": {
      "text/plain": [
       "0"
      ]
     },
     "execution_count": 7,
     "metadata": {},
     "output_type": "execute_result"
    }
   ],
   "source": [
    "numeric_col.isna().sum().sum()"
   ]
  },
  {
   "cell_type": "code",
   "execution_count": 8,
   "metadata": {},
   "outputs": [],
   "source": [
    "# I split the data because I didnt want to use everything for the predictions. numeric_set1 is what I worked on primarily in the regression below. We could use numeric_set2 as a larger test set\n",
    "numeric_set1=numeric_col.sample(frac=0.5, replace=False, random_state=1)\n",
    "#numeric_set1 = numeric_col.iloc[:9000,:]\n",
    "#numeric_set2 = df.iloc[9000:,:]"
   ]
  },
  {
   "cell_type": "code",
   "execution_count": 10,
   "metadata": {},
   "outputs": [],
   "source": [
    "#had to chane the data type of the dependent variable because it wasnt categorical and wouldnt work otherwise in any regressioin function\n",
    "numeric_set1['stars_business'] = numeric_set1['stars_business'].apply(np.int64)"
   ]
  },
  {
   "cell_type": "code",
   "execution_count": 11,
   "metadata": {},
   "outputs": [],
   "source": [
    "#split data into x and y variables\n",
    "numeric_set1X=numeric_set1[['stars_review','useful_review','funny_review','cool_review',\n",
    "                  'review_count_user','useful_user','funny_user','cool_user',\n",
    "                  'elite_user','fans','average_stars_user','compliment_hot', 'compliment_more',\n",
    "                    'compliment_profile', 'compliment_cute', 'compliment_list',\n",
    "                    'compliment_note', 'compliment_plain', 'compliment_cool',\n",
    "                    'compliment_funny', 'compliment_writer', 'compliment_photos']]\n",
    "numeric_set1y=numeric_set1['stars_business']"
   ]
  },
  {
   "cell_type": "code",
   "execution_count": 12,
   "metadata": {},
   "outputs": [],
   "source": [
    "#Split into train and test data\n",
    "from sklearn.model_selection import train_test_split\n",
    "\n",
    "X_train, X_test, y_train, y_test = train_test_split(numeric_set1X, numeric_set1y, test_size=0.46, random_state=2022)"
   ]
  },
  {
   "cell_type": "markdown",
   "metadata": {},
   "source": [
    "## PCA Reduction"
   ]
  },
  {
   "cell_type": "code",
   "execution_count": 13,
   "metadata": {},
   "outputs": [
    {
     "data": {
      "image/png": "[encoded data removed]",
      "text/plain": [
       "<Figure size 432x288 with 1 Axes>"
      ]
     },
     "metadata": {
      "needs_background": "light"
     },
     "output_type": "display_data"
    }
   ],
   "source": [
    "from sklearn.decomposition import PCA\n",
    "#from sklearn.datasets import load_iris\n",
    "import matplotlib.pyplot as plt\n",
    "# import numpy as np\n",
    "\n",
    "n_components = min(17, X_train.shape[1]) # choose the minimum between 5 and the number of features\n",
    "\n",
    "# compute the explained variance ratio for each number of components\n",
    "variance_ratios = []\n",
    "for i in range(1, n_components + 1):\n",
    "    pca = PCA(n_components=i)\n",
    "    pca.fit(X_train)\n",
    "    variance_ratios.append(pca.explained_variance_ratio_.sum())\n",
    "\n",
    "# plot the explained variance ratio for each number of components\n",
    "plt.plot(range(1, n_components + 1), variance_ratios)\n",
    "plt.xlabel('Number of Components')\n",
    "plt.ylabel('Explained Variance Ratio')\n",
    "plt.title('Elbow Method with PCA')\n",
    "plt.show()\n",
    "\n"
   ]
  },
  {
   "cell_type": "code",
   "execution_count": 14,
   "metadata": {},
   "outputs": [],
   "source": [
    "from sklearn.decomposition import PCA\n",
    "from sklearn.preprocessing import StandardScaler\n",
    "\n",
    "def pca_reduction(data,n_components):\n",
    "    # Data standardization\n",
    "    standardized_data = StandardScaler().fit_transform(data)\n",
    "\n",
    "    # PCA\n",
    "    pca = PCA(n_components=n_components)\n",
    "    reduced_data = pca.fit_transform(standardized_data)\n",
    "\n",
    "    return reduced_data\n",
    "\n"
   ]
  },
  {
   "cell_type": "code",
   "execution_count": 15,
   "metadata": {},
   "outputs": [],
   "source": [
    "reduce_train=pd.DataFrame(pca_reduction(X_train, 4))\n",
    "reduce_test= pca_reduction(X_test, 4)"
   ]
  },
  {
   "cell_type": "code",
   "execution_count": 16,
   "metadata": {},
   "outputs": [
    {
     "data": {
      "text/html": [
       "<div>\n",
       "<style scoped>\n",
       "    .dataframe tbody tr th:only-of-type {\n",
       "        vertical-align: middle;\n",
       "    }\n",
       "\n",
       "    .dataframe tbody tr th {\n",
       "        vertical-align: top;\n",
       "    }\n",
       "\n",
       "    .dataframe thead th {\n",
       "        text-align: right;\n",
       "    }\n",
       "</style>\n",
       "<table border=\"1\" class=\"dataframe\">\n",
       "  <thead>\n",
       "    <tr style=\"text-align: right;\">\n",
       "      <th></th>\n",
       "      <th>0</th>\n",
       "      <th>1</th>\n",
       "      <th>2</th>\n",
       "      <th>3</th>\n",
       "    </tr>\n",
       "  </thead>\n",
       "  <tbody>\n",
       "    <tr>\n",
       "      <th>0</th>\n",
       "      <td>0.030510</td>\n",
       "      <td>-0.453766</td>\n",
       "      <td>-0.683762</td>\n",
       "      <td>0.739304</td>\n",
       "    </tr>\n",
       "    <tr>\n",
       "      <th>1</th>\n",
       "      <td>-0.597688</td>\n",
       "      <td>0.271488</td>\n",
       "      <td>-0.453985</td>\n",
       "      <td>0.704660</td>\n",
       "    </tr>\n",
       "    <tr>\n",
       "      <th>2</th>\n",
       "      <td>-0.585580</td>\n",
       "      <td>0.178954</td>\n",
       "      <td>-1.066862</td>\n",
       "      <td>1.025537</td>\n",
       "    </tr>\n",
       "    <tr>\n",
       "      <th>3</th>\n",
       "      <td>-0.574265</td>\n",
       "      <td>0.196461</td>\n",
       "      <td>-0.891239</td>\n",
       "      <td>0.876445</td>\n",
       "    </tr>\n",
       "    <tr>\n",
       "      <th>4</th>\n",
       "      <td>-0.606224</td>\n",
       "      <td>0.417391</td>\n",
       "      <td>0.542547</td>\n",
       "      <td>0.152022</td>\n",
       "    </tr>\n",
       "    <tr>\n",
       "      <th>...</th>\n",
       "      <td>...</td>\n",
       "      <td>...</td>\n",
       "      <td>...</td>\n",
       "      <td>...</td>\n",
       "    </tr>\n",
       "    <tr>\n",
       "      <th>6713</th>\n",
       "      <td>-0.404518</td>\n",
       "      <td>-0.006315</td>\n",
       "      <td>0.621860</td>\n",
       "      <td>0.137103</td>\n",
       "    </tr>\n",
       "    <tr>\n",
       "      <th>6714</th>\n",
       "      <td>-0.586194</td>\n",
       "      <td>0.226133</td>\n",
       "      <td>-0.728255</td>\n",
       "      <td>0.834447</td>\n",
       "    </tr>\n",
       "    <tr>\n",
       "      <th>6715</th>\n",
       "      <td>-0.607041</td>\n",
       "      <td>0.406944</td>\n",
       "      <td>0.555250</td>\n",
       "      <td>0.103414</td>\n",
       "    </tr>\n",
       "    <tr>\n",
       "      <th>6716</th>\n",
       "      <td>-0.588900</td>\n",
       "      <td>0.208898</td>\n",
       "      <td>-0.866162</td>\n",
       "      <td>0.916313</td>\n",
       "    </tr>\n",
       "    <tr>\n",
       "      <th>6717</th>\n",
       "      <td>-0.437452</td>\n",
       "      <td>0.288291</td>\n",
       "      <td>-0.152541</td>\n",
       "      <td>0.256767</td>\n",
       "    </tr>\n",
       "  </tbody>\n",
       "</table>\n",
       "<p>6718 rows × 4 columns</p>\n",
       "</div>"
      ],
      "text/plain": [
       "             0         1         2         3\n",
       "0     0.030510 -0.453766 -0.683762  0.739304\n",
       "1    -0.597688  0.271488 -0.453985  0.704660\n",
       "2    -0.585580  0.178954 -1.066862  1.025537\n",
       "3    -0.574265  0.196461 -0.891239  0.876445\n",
       "4    -0.606224  0.417391  0.542547  0.152022\n",
       "...        ...       ...       ...       ...\n",
       "6713 -0.404518 -0.006315  0.621860  0.137103\n",
       "6714 -0.586194  0.226133 -0.728255  0.834447\n",
       "6715 -0.607041  0.406944  0.555250  0.103414\n",
       "6716 -0.588900  0.208898 -0.866162  0.916313\n",
       "6717 -0.437452  0.288291 -0.152541  0.256767\n",
       "\n",
       "[6718 rows x 4 columns]"
      ]
     },
     "execution_count": 16,
     "metadata": {},
     "output_type": "execute_result"
    }
   ],
   "source": [
    "reduce_train"
   ]
  },
  {
   "cell_type": "markdown",
   "metadata": {},
   "source": [
    "## Decision Tree"
   ]
  },
  {
   "cell_type": "code",
   "execution_count": 18,
   "metadata": {},
   "outputs": [
    {
     "name": "stdout",
     "output_type": "stream",
     "text": [
      "Train Accuracy: 0.6201250372134564\n",
      "Test Accuracy: 0.6142557651991615\n"
     ]
    }
   ],
   "source": [
    "#regression tree on train data\n",
    "from sklearn.tree import DecisionTreeClassifier\n",
    "from sklearn import tree\n",
    "\n",
    "tree_clf = DecisionTreeClassifier(max_depth=3, random_state=42)\n",
    "tree_clf.fit(X_train, y_train)\n",
    "\n",
    "from sklearn import metrics\n",
    "print(\"Train Accuracy:\",metrics.accuracy_score(y_train, tree_clf.predict(X_train)))\n",
    "print(\"Test Accuracy:\",metrics.accuracy_score(y_test, tree_clf.predict(X_test)))"
   ]
  },
  {
   "cell_type": "markdown",
   "metadata": {},
   "source": [
    "#### Random Search with regular data"
   ]
  },
  {
   "cell_type": "code",
   "execution_count": 19,
   "metadata": {},
   "outputs": [
    {
     "name": "stdout",
     "output_type": "stream",
     "text": [
      "Best parameters: {'splitter': 'random', 'min_samples_split': 34, 'min_samples_leaf': 20, 'max_depth': 3}\n",
      "Best score: 0.6192327668113107\n",
      "Test accuracy: 0.6128581411600279\n"
     ]
    }
   ],
   "source": [
    "#decision tree grid search\n",
    "\n",
    "param_grid = {\n",
    "    'max_depth': [2,3,4,5,6,],\n",
    "    'min_samples_split': [32, 33, 34, 35, 36],\n",
    "    'min_samples_leaf': [ 19, 20, 21, 22],\n",
    "    'splitter': ['best', 'random']\n",
    "}\n",
    "\n",
    "dt = DecisionTreeClassifier()\n",
    "\n",
    "# Define the grid search\n",
    "random_search = RandomizedSearchCV(estimator=dt, param_distributions=param_grid, cv=4, n_iter=50, random_state=42)\n",
    "\n",
    "# Fit the grid search to the data\n",
    "random_search.fit(X_train, y_train)\n",
    "\n",
    "# Get the best parameters\n",
    "best_params = random_search.best_params_\n",
    "print(f\"Best parameters: {best_params}\")\n",
    "\n",
    "# Get the best score\n",
    "best_score = random_search.best_score_\n",
    "print(f\"Best score: {best_score}\")\n",
    "\n",
    "# Test on the test set\n",
    "y_pred = random_search.predict(X_test)\n",
    "test_accuracy = accuracy_score(y_test, y_pred)\n",
    "print(f\"Test accuracy: {test_accuracy}\")"
   ]
  },
  {
   "cell_type": "code",
   "execution_count": 20,
   "metadata": {},
   "outputs": [
    {
     "name": "stdout",
     "output_type": "stream",
     "text": [
      "Train Accuracy: 0.6189342066091098\n",
      "Test Accuracy: 0.6147798742138365\n"
     ]
    }
   ],
   "source": [
    "tree_clf = DecisionTreeClassifier(max_depth=4, min_samples_leaf=21, min_samples_split=35, splitter='random')\n",
    "tree_clf.fit(X_train, y_train)\n",
    "\n",
    "from sklearn import metrics\n",
    "print(\"Train Accuracy:\",metrics.accuracy_score(y_train, tree_clf.predict(X_train)))\n",
    "print(\"Test Accuracy:\",metrics.accuracy_score(y_test, tree_clf.predict(X_test)))"
   ]
  },
  {
   "cell_type": "markdown",
   "metadata": {},
   "source": [
    "#### Random search with reduced data"
   ]
  },
  {
   "cell_type": "code",
   "execution_count": 21,
   "metadata": {},
   "outputs": [
    {
     "name": "stdout",
     "output_type": "stream",
     "text": [
      "Best parameters: {'splitter': 'best', 'min_samples_split': 32, 'min_samples_leaf': 19, 'max_depth': 3}\n",
      "Best score: 0.6149151635043535\n",
      "Test accuracy: 0.613382250174703\n"
     ]
    }
   ],
   "source": [
    "#decision tree grid search\n",
    "param_grid = {\n",
    "    'max_depth': [1,2,3,4,5,6,7],\n",
    "    'min_samples_split': [32, 33, 34, 35, 36, 37],\n",
    "    'min_samples_leaf': [18, 19, 20, 21, 22],\n",
    "    'splitter': ['best', 'random']\n",
    "}\n",
    "dt = DecisionTreeClassifier()\n",
    "\n",
    "# Define the grid search\n",
    "random_search = RandomizedSearchCV(estimator=dt, param_distributions=param_grid, cv=4, n_iter=50, random_state=42)\n",
    "\n",
    "# Fit the grid search to the data\n",
    "random_search.fit(reduce_train, y_train)\n",
    "\n",
    "# Get the best parameters\n",
    "best_params = random_search.best_params_\n",
    "print(f\"Best parameters: {best_params}\")\n",
    "\n",
    "# Get the best score\n",
    "best_score = random_search.best_score_\n",
    "print(f\"Best score: {best_score}\")\n",
    "\n",
    "# Test on the test set\n",
    "y_pred = random_search.predict(reduce_test)\n",
    "test_accuracy = accuracy_score(y_test, y_pred)\n",
    "print(f\"Test accuracy: {test_accuracy}\")"
   ]
  },
  {
   "cell_type": "code",
   "execution_count": 22,
   "metadata": {},
   "outputs": [
    {
     "data": {
      "text/plain": [
       "'digraph Tree {\\nnode [shape=box, style=\"filled, rounded\", color=\"black\", fontname=\"helvetica\"] ;\\nedge [fontname=\"helvetica\"] ;\\n0 [label=\"stars_review <= 3.908\\\\ngini = 0.571\\\\nsamples = 6718\\\\nvalue = [142, 540, 1552, 4057, 427]\\\\nclass = r\", fillcolor=\"#a09ff2\"] ;\\n1 [label=\"stars_review <= 2.396\\\\ngini = 0.688\\\\nsamples = 2073\\\\nvalue = [135, 406, 744, 778, 10]\\\\nclass = r\", fillcolor=\"#fafafe\"] ;\\n0 -> 1 [labeldistance=2.5, labelangle=45, headlabel=\"True\"] ;\\n2 [label=\"stars_review <= 1.444\\\\ngini = 0.706\\\\nsamples = 1598\\\\nvalue = [127, 377, 579, 506, 9]\\\\nclass = a\", fillcolor=\"#f2fdfb\"] ;\\n1 -> 2 ;\\n3 [label=\"elite_user <= 0.586\\\\ngini = 0.719\\\\nsamples = 1182\\\\nvalue = [120, 322, 417, 318, 5]\\\\nclass = a\", fillcolor=\"#e9fcf9\"] ;\\n2 -> 3 ;\\n4 [label=\"gini = 0.719\\\\nsamples = 1140\\\\nvalue = [117, 315, 399, 304, 5]\\\\nclass = a\", fillcolor=\"#ebfcf9\"] ;\\n3 -> 4 ;\\n5 [label=\"gini = 0.672\\\\nsamples = 42\\\\nvalue = [3, 7, 18, 14, 0]\\\\nclass = a\", fillcolor=\"#e3fbf7\"] ;\\n3 -> 5 ;\\n6 [label=\"average_stars_user <= 2.723\\\\ngini = 0.626\\\\nsamples = 416\\\\nvalue = [7, 55, 162, 188, 4]\\\\nclass = r\", fillcolor=\"#ebebfc\"] ;\\n2 -> 6 ;\\n7 [label=\"gini = 0.643\\\\nsamples = 135\\\\nvalue = [3, 21, 56, 54, 1]\\\\nclass = a\", fillcolor=\"#fafefe\"] ;\\n6 -> 7 ;\\n8 [label=\"gini = 0.615\\\\nsamples = 281\\\\nvalue = [4, 34, 106, 134, 3]\\\\nclass = r\", fillcolor=\"#e0dffb\"] ;\\n6 -> 8 ;\\n9 [label=\"average_stars_user <= 3.285\\\\ngini = 0.547\\\\nsamples = 475\\\\nvalue = [8, 29, 165, 272, 1]\\\\nclass = r\", fillcolor=\"#bcbbf6\"] ;\\n1 -> 9 ;\\n10 [label=\"gini = 0.568\\\\nsamples = 132\\\\nvalue = [4, 8, 49, 71, 0]\\\\nclass = r\", fillcolor=\"#cbcbf8\"] ;\\n9 -> 10 ;\\n11 [label=\"compliment_plain <= 0.346\\\\ngini = 0.538\\\\nsamples = 343\\\\nvalue = [4, 21, 116, 201, 1]\\\\nclass = r\", fillcolor=\"#b6b5f5\"] ;\\n9 -> 11 ;\\n12 [label=\"gini = 0.531\\\\nsamples = 181\\\\nvalue = [3, 11, 56, 110, 1]\\\\nclass = r\", fillcolor=\"#aba9f4\"] ;\\n11 -> 12 ;\\n13 [label=\"gini = 0.543\\\\nsamples = 162\\\\nvalue = [1, 10, 60, 91, 0]\\\\nclass = r\", fillcolor=\"#c4c3f7\"] ;\\n11 -> 13 ;\\n14 [label=\"stars_review <= 4.578\\\\ngini = 0.463\\\\nsamples = 4645\\\\nvalue = [7, 134, 808, 3279, 417]\\\\nclass = r\", fillcolor=\"#817fee\"] ;\\n0 -> 14 [labeldistance=2.5, labelangle=-45, headlabel=\"False\"] ;\\n15 [label=\"compliment_photos <= 16.959\\\\ngini = 0.468\\\\nsamples = 851\\\\nvalue = [2, 34, 220, 579, 16]\\\\nclass = r\", fillcolor=\"#908ef0\"] ;\\n14 -> 15 ;\\n16 [label=\"useful_review <= 1.041\\\\ngini = 0.461\\\\nsamples = 790\\\\nvalue = [2, 31, 198, 544, 15]\\\\nclass = r\", fillcolor=\"#8d8bf0\"] ;\\n15 -> 16 ;\\n17 [label=\"gini = 0.465\\\\nsamples = 697\\\\nvalue = [2, 27, 180, 476, 12]\\\\nclass = r\", fillcolor=\"#8f8ef0\"] ;\\n16 -> 17 ;\\n18 [label=\"gini = 0.425\\\\nsamples = 93\\\\nvalue = [0, 4, 18, 68, 3]\\\\nclass = r\", fillcolor=\"#7d7bee\"] ;\\n16 -> 18 ;\\n19 [label=\"compliment_photos <= 56.14\\\\ngini = 0.538\\\\nsamples = 61\\\\nvalue = [0, 3, 22, 35, 1]\\\\nclass = r\", fillcolor=\"#bebdf6\"] ;\\n15 -> 19 ;\\n20 [label=\"gini = 0.542\\\\nsamples = 40\\\\nvalue = [0, 1, 17, 21, 1]\\\\nclass = r\", fillcolor=\"#ddddfa\"] ;\\n19 -> 20 ;\\n21 [label=\"gini = 0.49\\\\nsamples = 21\\\\nvalue = [0, 2, 5, 14, 0]\\\\nclass = r\", fillcolor=\"#9190f0\"] ;\\n19 -> 21 ;\\n22 [label=\"elite_user <= 0.255\\\\ngini = 0.458\\\\nsamples = 3794\\\\nvalue = [5, 100, 588, 2700, 401]\\\\nclass = r\", fillcolor=\"#7f7dee\"] ;\\n14 -> 22 ;\\n23 [label=\"average_stars_user <= 3.926\\\\ngini = 0.467\\\\nsamples = 3208\\\\nvalue = [4, 84, 509, 2257, 354]\\\\nclass = r\", fillcolor=\"#817fee\"] ;\\n22 -> 23 ;\\n24 [label=\"gini = 0.476\\\\nsamples = 1006\\\\nvalue = [0, 33, 175, 699, 99]\\\\nclass = r\", fillcolor=\"#8482ef\"] ;\\n23 -> 24 ;\\n25 [label=\"gini = 0.462\\\\nsamples = 2202\\\\nvalue = [4, 51, 334, 1558, 255]\\\\nclass = r\", fillcolor=\"#7f7dee\"] ;\\n23 -> 25 ;\\n26 [label=\"average_stars_user <= 4.218\\\\ngini = 0.403\\\\nsamples = 586\\\\nvalue = [1, 16, 79, 443, 47]\\\\nclass = r\", fillcolor=\"#7371ec\"] ;\\n22 -> 26 ;\\n27 [label=\"gini = 0.387\\\\nsamples = 294\\\\nvalue = [0, 10, 36, 226, 22]\\\\nclass = r\", fillcolor=\"#6f6dec\"] ;\\n26 -> 27 ;\\n28 [label=\"gini = 0.418\\\\nsamples = 292\\\\nvalue = [1, 6, 43, 217, 25]\\\\nclass = r\", fillcolor=\"#7775ed\"] ;\\n26 -> 28 ;\\n}'"
      ]
     },
     "execution_count": 22,
     "metadata": {},
     "output_type": "execute_result"
    }
   ],
   "source": [
    "#regression tree visual\n",
    "from graphviz import Source\n",
    "from sklearn.tree import export_graphviz\n",
    "\n",
    "export_graphviz(\n",
    "        tree_clf,\n",
    "        feature_names=X_train.columns[0:],\n",
    "        class_names='stars_business',\n",
    "        rounded=True,\n",
    "        filled=True\n",
    "    )"
   ]
  },
  {
   "cell_type": "code",
   "execution_count": 23,
   "metadata": {},
   "outputs": [
    {
     "data": {
      "image/png": "[encoded data removed]",
      "text/plain": [
       "<Figure size 1800x1440 with 1 Axes>"
      ]
     },
     "metadata": {
      "needs_background": "light"
     },
     "output_type": "display_data"
    }
   ],
   "source": [
    "fig = plt.figure(figsize=(25,20))\n",
    "_ = tree.plot_tree(tree_clf,\n",
    "                   feature_names=X_train.columns[0:],\n",
    "                   class_names='stars_business',\n",
    "                   filled=True)"
   ]
  },
  {
   "cell_type": "markdown",
   "metadata": {},
   "source": [
    "## Random Forest"
   ]
  },
  {
   "cell_type": "markdown",
   "metadata": {},
   "source": [
    "#### No Parameters"
   ]
  },
  {
   "cell_type": "code",
   "execution_count": 24,
   "metadata": {},
   "outputs": [
    {
     "name": "stdout",
     "output_type": "stream",
     "text": [
      "Test Accuracy:  0.606219426974144\n"
     ]
    }
   ],
   "source": [
    "#No parameters\n",
    "from sklearn.ensemble import RandomForestClassifier\n",
    "from sklearn.metrics import accuracy_score\n",
    "rnd_clf = RandomForestClassifier(n_estimators=400, max_leaf_nodes=16,\n",
    "                                 n_jobs=-1, random_state=42)\n",
    "rnd_clf.fit(X_train, y_train)\n",
    "y_pred_rf = rnd_clf.predict(X_test)\n",
    "print(\"Test Accuracy: \", accuracy_score(y_test, y_pred_rf))"
   ]
  },
  {
   "cell_type": "markdown",
   "metadata": {},
   "source": [
    "#### Random Search with regular data"
   ]
  },
  {
   "cell_type": "code",
   "execution_count": 25,
   "metadata": {},
   "outputs": [
    {
     "name": "stdout",
     "output_type": "stream",
     "text": [
      "Best parameters: {'n_estimators': 100, 'min_samples_split': 2, 'min_samples_leaf': 4, 'max_features': 'auto', 'max_depth': 15, 'bootstrap': True}\n",
      "Best score: 0.615808818315891\n",
      "Test accuracy: 0.6135569531795947\n"
     ]
    }
   ],
   "source": [
    "#Random forrest grid search\n",
    "\n",
    "param_grid = {\n",
    "    'n_estimators': [50, 100, 200],\n",
    "    'max_features': ['auto', 'sqrt', 'log2'],\n",
    "    'max_depth': [5, 10, 15, 20],\n",
    "    'min_samples_split': [2, 5, 10],\n",
    "    'min_samples_leaf': [1, 2, 4],\n",
    "    'bootstrap': [True, False]\n",
    "}\n",
    "\n",
    "# Create random forest classifier\n",
    "rf = RandomForestClassifier()\n",
    "\n",
    "# Define grid search\n",
    "random_search = RandomizedSearchCV(estimator=rf, param_distributions=param_grid, cv=4, n_iter=50, random_state=42)\n",
    "\n",
    "# Fit grid search to the data\n",
    "random_search.fit(X_train, y_train)\n",
    "\n",
    "# Get the best parameters\n",
    "best_params = random_search.best_params_\n",
    "print(f\"Best parameters: {best_params}\")\n",
    "\n",
    "# Get the best score\n",
    "best_score = random_search.best_score_\n",
    "print(f\"Best score: {best_score}\")\n",
    "\n",
    "# Test on the test set\n",
    "y_pred = random_search.predict(X_test)\n",
    "test_accuracy = accuracy_score(y_test, y_pred)\n",
    "print(f\"Test accuracy: {test_accuracy}\")\n",
    "\n"
   ]
  },
  {
   "cell_type": "markdown",
   "metadata": {},
   "source": [
    "#### Random Search with reduced data"
   ]
  },
  {
   "cell_type": "code",
   "execution_count": 26,
   "metadata": {},
   "outputs": [
    {
     "name": "stdout",
     "output_type": "stream",
     "text": [
      "Best parameters: {'n_estimators': 100, 'min_samples_split': 2, 'min_samples_leaf': 2, 'max_features': 'sqrt', 'max_depth': 5, 'bootstrap': False}\n",
      "Best score: 0.6174461662270626\n",
      "Test accuracy: 0.6154786862334032\n"
     ]
    }
   ],
   "source": [
    "# Define parameter grid\n",
    "param_grid = {\n",
    "    'n_estimators': [50, 100, 200],\n",
    "    'max_features': ['auto', 'sqrt', 'log2'],\n",
    "    'max_depth': [5, 10, 15, 20],\n",
    "    'min_samples_split': [2, 5, 10],\n",
    "    'min_samples_leaf': [1, 2, 4],\n",
    "    'bootstrap': [True, False]\n",
    "}\n",
    "\n",
    "# Create random forest classifier\n",
    "rf = RandomForestClassifier()\n",
    "\n",
    "# Define grid search\n",
    "random_search = RandomizedSearchCV(estimator=rf, param_distributions=param_grid, cv=4, n_iter=50, random_state=42)\n",
    "\n",
    "# Fit grid search to the data\n",
    "random_search.fit(reduce_train, y_train)\n",
    "\n",
    "# Get the best parameters\n",
    "best_params = random_search.best_params_\n",
    "print(f\"Best parameters: {best_params}\")\n",
    "\n",
    "# Get the best score\n",
    "best_score = random_search.best_score_\n",
    "print(f\"Best score: {best_score}\")\n",
    "\n",
    "# Test on the test set\n",
    "y_pred = random_search.predict(reduce_test)\n",
    "test_accuracy = accuracy_score(y_test, y_pred)\n",
    "print(f\"Test accuracy: {test_accuracy}\")"
   ]
  },
  {
   "cell_type": "markdown",
   "metadata": {},
   "source": [
    "## Multi-class Ordinal Logistic Regression"
   ]
  },
  {
   "cell_type": "markdown",
   "metadata": {},
   "source": [
    "### No parameters"
   ]
  },
  {
   "cell_type": "code",
   "execution_count": 27,
   "metadata": {},
   "outputs": [
    {
     "name": "stdout",
     "output_type": "stream",
     "text": [
      "Mean Squared Error: 0.8006638714185884\n",
      "Accuracy: 0.60062893081761\n"
     ]
    },
    {
     "name": "stderr",
     "output_type": "stream",
     "text": [
      "c:\\Users\\Owner\\anaconda3\\lib\\site-packages\\sklearn\\linear_model\\_logistic.py:814: ConvergenceWarning: lbfgs failed to converge (status=1):\n",
      "STOP: TOTAL NO. of ITERATIONS REACHED LIMIT.\n",
      "\n",
      "Increase the number of iterations (max_iter) or scale the data as shown in:\n",
      "    https://scikit-learn.org/stable/modules/preprocessing.html\n",
      "Please also refer to the documentation for alternative solver options:\n",
      "    https://scikit-learn.org/stable/modules/linear_model.html#logistic-regression\n",
      "  n_iter_i = _check_optimize_result(\n"
     ]
    }
   ],
   "source": [
    "import numpy as np\n",
    "from sklearn.linear_model import LogisticRegression\n",
    "from sklearn.model_selection import train_test_split\n",
    "from sklearn.metrics import mean_squared_error\n",
    "from sklearn.preprocessing import LabelEncoder\n",
    "\n",
    "# Initialize the multi-class ordinal logistic regression model\n",
    "ordinal_logistic = LogisticRegression(multi_class='multinomial', solver='lbfgs')\n",
    "\n",
    "# Fit the model on the training data\n",
    "ordinal_logistic.fit(X_train, y_train)\n",
    "\n",
    "# Predict the classes for the test data\n",
    "y_pred = ordinal_logistic.predict(X_test)\n",
    "\n",
    "# Calculate the mean squared error\n",
    "mse = mean_squared_error(y_test, y_pred)\n",
    "print('Mean Squared Error:', mse)\n",
    "\n",
    "print(\"Accuracy:\",metrics.accuracy_score(y_test, y_pred))"
   ]
  },
  {
   "cell_type": "markdown",
   "metadata": {},
   "source": [
    "#### Grid search with regular data"
   ]
  },
  {
   "cell_type": "code",
   "execution_count": 28,
   "metadata": {},
   "outputs": [
    {
     "name": "stderr",
     "output_type": "stream",
     "text": [
      "c:\\Users\\Owner\\anaconda3\\lib\\site-packages\\sklearn\\model_selection\\_validation.py:372: FitFailedWarning: \n",
      "30 fits failed out of a total of 300.\n",
      "The score on these train-test partitions for these parameters will be set to nan.\n",
      "If these failures are not expected, you can try to debug them by setting error_score='raise'.\n",
      "\n",
      "Below are more details about the failures:\n",
      "--------------------------------------------------------------------------------\n",
      "30 fits failed with the following error:\n",
      "Traceback (most recent call last):\n",
      "  File \"c:\\Users\\Owner\\anaconda3\\lib\\site-packages\\sklearn\\model_selection\\_validation.py\", line 680, in _fit_and_score\n",
      "    estimator.fit(X_train, y_train, **fit_params)\n",
      "  File \"c:\\Users\\Owner\\anaconda3\\lib\\site-packages\\sklearn\\linear_model\\_logistic.py\", line 1519, in fit\n",
      "    multi_class = _check_multi_class(self.multi_class, solver, len(self.classes_))\n",
      "  File \"c:\\Users\\Owner\\anaconda3\\lib\\site-packages\\sklearn\\linear_model\\_logistic.py\", line 483, in _check_multi_class\n",
      "    raise ValueError(\"Solver %s does not support a multinomial backend.\" % solver)\n",
      "ValueError: Solver liblinear does not support a multinomial backend.\n",
      "\n",
      "  warnings.warn(some_fits_failed_message, FitFailedWarning)\n",
      "c:\\Users\\Owner\\anaconda3\\lib\\site-packages\\sklearn\\model_selection\\_search.py:969: UserWarning: One or more of the test scores are non-finite: [0.6025599  0.61551143        nan 0.60285785 0.60300688 0.61253346\n",
      " 0.61134232 0.60315547 0.60330461 0.60330461 0.6058357  0.61819133\n",
      "        nan 0.60285785 0.60300688 0.61789326 0.61863776 0.61476616\n",
      " 0.60330461 0.60330461 0.6073248  0.61759576        nan 0.60285785\n",
      " 0.60300688 0.61789382 0.6177449  0.61774479 0.60330461 0.60330461\n",
      " 0.60762242 0.61789349        nan 0.60285785 0.60300688 0.61863764\n",
      " 0.61789371 0.61789371 0.60330461 0.60330461 0.60806862 0.61789349\n",
      "        nan 0.60285785 0.60300688 0.61744684 0.6177449  0.61789371\n",
      " 0.60330461 0.60330461 0.60896181 0.61789338        nan 0.60285785\n",
      " 0.60300688 0.61789338 0.6177449  0.61789371 0.60330461 0.60330461]\n",
      "  warnings.warn(\n"
     ]
    },
    {
     "name": "stdout",
     "output_type": "stream",
     "text": [
      "Best parameters: {'C': 0.01, 'multi_class': 'ovr', 'solver': 'newton-cg'}\n",
      "Best score: 0.6186377557352054\n",
      "Test accuracy: 0.6125087351502446\n"
     ]
    }
   ],
   "source": [
    "#Ordinal logistic regression\n",
    "\n",
    "param_grid = {\n",
    "    'C': [0.001, 0.01, 0.1, 1.0, 10.0, 100.0],\n",
    "    'multi_class': ['multinomial', 'ovr'],\n",
    "    'solver': ['lbfgs', 'newton-cg', 'liblinear', 'sag', 'saga']\n",
    "}\n",
    "\n",
    "# Create multi-class ordinal logistic regression classifier\n",
    "lr = LogisticRegression(max_iter=1000)\n",
    "\n",
    "# Define grid search\n",
    "grid_search = GridSearchCV(estimator=lr, param_grid=param_grid, cv=5, n_jobs=-1)\n",
    "\n",
    "# Fit grid search to the data\n",
    "grid_search.fit(X_train, y_train)\n",
    "\n",
    "# Get the best parameters\n",
    "best_params = grid_search.best_params_\n",
    "print(f\"Best parameters: {best_params}\")\n",
    "\n",
    "# Get the best score\n",
    "best_score = grid_search.best_score_\n",
    "print(f\"Best score: {best_score}\")\n",
    "\n",
    "# Test on the test set\n",
    "y_pred = grid_search.predict(X_test)\n",
    "test_accuracy = accuracy_score(y_test, y_pred)\n",
    "print(f\"Test accuracy: {test_accuracy}\")\n"
   ]
  },
  {
   "cell_type": "markdown",
   "metadata": {},
   "source": [
    "#### Grid search with reduced data"
   ]
  },
  {
   "cell_type": "code",
   "execution_count": 29,
   "metadata": {},
   "outputs": [
    {
     "name": "stdout",
     "output_type": "stream",
     "text": [
      "Fitting 5 folds for each of 60 candidates, totalling 300 fits\n"
     ]
    },
    {
     "name": "stdout",
     "output_type": "stream",
     "text": [
      "Best parameters: {'C': 0.001, 'multi_class': 'ovr', 'solver': 'liblinear'}\n",
      "Best score: 0.6168504901960785\n",
      "Test accuracy: 0.6154786862334032\n"
     ]
    },
    {
     "name": "stderr",
     "output_type": "stream",
     "text": [
      "c:\\Users\\Owner\\anaconda3\\lib\\site-packages\\sklearn\\model_selection\\_validation.py:372: FitFailedWarning: \n",
      "30 fits failed out of a total of 300.\n",
      "The score on these train-test partitions for these parameters will be set to nan.\n",
      "If these failures are not expected, you can try to debug them by setting error_score='raise'.\n",
      "\n",
      "Below are more details about the failures:\n",
      "--------------------------------------------------------------------------------\n",
      "30 fits failed with the following error:\n",
      "Traceback (most recent call last):\n",
      "  File \"c:\\Users\\Owner\\anaconda3\\lib\\site-packages\\sklearn\\model_selection\\_validation.py\", line 680, in _fit_and_score\n",
      "    estimator.fit(X_train, y_train, **fit_params)\n",
      "  File \"c:\\Users\\Owner\\anaconda3\\lib\\site-packages\\sklearn\\linear_model\\_logistic.py\", line 1519, in fit\n",
      "    multi_class = _check_multi_class(self.multi_class, solver, len(self.classes_))\n",
      "  File \"c:\\Users\\Owner\\anaconda3\\lib\\site-packages\\sklearn\\linear_model\\_logistic.py\", line 483, in _check_multi_class\n",
      "    raise ValueError(\"Solver %s does not support a multinomial backend.\" % solver)\n",
      "ValueError: Solver liblinear does not support a multinomial backend.\n",
      "\n",
      "  warnings.warn(some_fits_failed_message, FitFailedWarning)\n",
      "c:\\Users\\Owner\\anaconda3\\lib\\site-packages\\sklearn\\model_selection\\_search.py:969: UserWarning: One or more of the test scores are non-finite: [0.61000315 0.61000315        nan 0.61000315 0.61000315 0.60911062\n",
      " 0.60911062 0.61685049 0.60911062 0.60970586 0.614022   0.614022\n",
      "        nan 0.614022   0.614022   0.61506422 0.61506422 0.61387319\n",
      " 0.61521303 0.61521303 0.61253258 0.61253258        nan 0.61253258\n",
      " 0.61253258 0.61461768 0.61461768 0.61476649 0.61461768 0.61461768\n",
      " 0.6126815  0.6126815         nan 0.6126815  0.6126815  0.61491541\n",
      " 0.61491541 0.61491541 0.61491541 0.61491541 0.6126815  0.6126815\n",
      "        nan 0.6126815  0.6126815  0.61491541 0.61491541 0.61491541\n",
      " 0.61491541 0.61491541 0.61253258 0.61253258        nan 0.6126815\n",
      " 0.6126815  0.61491541 0.61491541 0.61491541 0.61491541 0.61491541]\n",
      "  warnings.warn(\n"
     ]
    }
   ],
   "source": [
    "param_grid = {\n",
    "    'C': [0.001, 0.01, 0.1, 1.0, 10.0, 100.0],\n",
    "    'multi_class': ['multinomial', 'ovr'],\n",
    "    'solver': ['lbfgs', 'newton-cg', 'liblinear', 'sag', 'saga']\n",
    "}\n",
    "\n",
    "# Create multi-class ordinal logistic regression classifier\n",
    "lr = LogisticRegression(max_iter=1000)\n",
    "\n",
    "# Define grid search\n",
    "grid_search = GridSearchCV(estimator=lr, param_grid=param_grid, cv=5, n_jobs=-1, verbose=2)\n",
    "\n",
    "# Fit grid search to the data\n",
    "grid_search.fit(reduce_train, y_train)\n",
    "\n",
    "# Get the best parameters\n",
    "best_params = grid_search.best_params_\n",
    "print(f\"Best parameters: {best_params}\")\n",
    "\n",
    "# Get the best score\n",
    "best_score = grid_search.best_score_\n",
    "print(f\"Best score: {best_score}\")\n",
    "\n",
    "# Test on the test set\n",
    "y_pred = grid_search.predict(reduce_test)\n",
    "test_accuracy = accuracy_score(y_test, y_pred)\n",
    "print(f\"Test accuracy: {test_accuracy}\")"
   ]
  },
  {
   "cell_type": "markdown",
   "metadata": {},
   "source": [
    "## SVM"
   ]
  },
  {
   "cell_type": "code",
   "execution_count": 30,
   "metadata": {},
   "outputs": [
    {
     "name": "stdout",
     "output_type": "stream",
     "text": [
      "Test Accuracy: 0.6063941299790356\n"
     ]
    }
   ],
   "source": [
    "#SVM model\n",
    "from sklearn.svm import SVC\n",
    "\n",
    "svm= SVC(kernel='rbf', gamma=0.4, C=1)\n",
    "svm.fit(X_train, y_train)\n",
    "\n",
    "#print(\"Train Accuracy:\",metrics.accuracy_score(y_train, svm.predict(X_train)))\n",
    "print(\"Test Accuracy:\",metrics.accuracy_score(y_test, svm.predict(X_test)))"
   ]
  },
  {
   "cell_type": "code",
   "execution_count": 31,
   "metadata": {},
   "outputs": [
    {
     "name": "stdout",
     "output_type": "stream",
     "text": [
      "Test Accuracy: 0.6151292802236199\n"
     ]
    }
   ],
   "source": [
    "#SVM model\n",
    "from sklearn.svm import SVC\n",
    "\n",
    "svm= SVC(kernel='rbf', gamma=0.4, C=1)\n",
    "svm.fit(reduce_train, y_train)\n",
    "\n",
    "#print(\"Train Accuracy:\",metrics.accuracy_score(y_train, svm.predict(X_train)))\n",
    "print(\"Test Accuracy:\",metrics.accuracy_score(y_test, svm.predict(reduce_test)))"
   ]
  },
  {
   "cell_type": "markdown",
   "metadata": {},
   "source": [
    "### Random search with regular data"
   ]
  },
  {
   "cell_type": "code",
   "execution_count": 32,
   "metadata": {},
   "outputs": [],
   "source": [
    "#The SVM code takes forever to run \n",
    "#SVM Grid search\n",
    "# from sklearn.svm import SVC\n",
    "# from sklearn import datasets\n",
    "\n",
    "\n",
    "# param_grid = {\n",
    "#     'C': [0.1, 1, 10],\n",
    "#     'gamma': [1, 0.1, 0.01],\n",
    "#     'kernel': ['linear', 'rbf']#, 'poly', 'sigmoid']\n",
    "# }\n",
    "\n",
    "# # instantiate the SVM classifier\n",
    "# svm = SVC()\n",
    "\n",
    "# # instantiate the GridSearchCV object\n",
    "# grid_search = RandomizedSearchCV(estimator=svm, param_grid=param_grid, cv=5)\n",
    "\n",
    "# # fit the GridSearchCV object to the data\n",
    "# grid_search.fit(X_train, y_train)\n",
    "\n",
    "# # Get the best parameters\n",
    "# best_params = grid_search.best_params_\n",
    "# print(f\"Best parameters: {best_params}\")\n",
    "\n",
    "# # Get the best score\n",
    "# best_score = grid_search.best_score_\n",
    "# print(f\"Best score: {best_score}\")\n",
    "\n",
    "# # Test on the test set\n",
    "# y_pred = grid_search.predict(X_test)\n",
    "# test_accuracy = accuracy_score(y_test, y_pred)\n",
    "# print(f\"Test accuracy: {test_accuracy}\")"
   ]
  }
 ],
 "metadata": {
  "kernelspec": {
   "display_name": "base",
   "language": "python",
   "name": "python3"
  },
  "language_info": {
   "codemirror_mode": {
    "name": "ipython",
    "version": 3
   },
   "file_extension": ".py",
   "mimetype": "text/x-python",
   "name": "python",
   "nbconvert_exporter": "python",
   "pygments_lexer": "ipython3",
   "version": "3.9.12"
  }
 },
 "nbformat": 4,
 "nbformat_minor": 2
}
